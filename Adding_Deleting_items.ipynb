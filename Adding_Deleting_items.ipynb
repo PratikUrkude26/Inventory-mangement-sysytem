{
  "nbformat": 4,
  "nbformat_minor": 0,
  "metadata": {
    "colab": {
      "name": "Adding/Deleting items.ipynb",
      "provenance": []
    },
    "kernelspec": {
      "name": "python3",
      "display_name": "Python 3"
    },
    "language_info": {
      "name": "python"
    }
  },
  "cells": [
    {
      "cell_type": "markdown",
      "metadata": {
        "id": "9WboJzEeKtfe"
      },
      "source": [
        "**LOADING DATA FROM RECORD.JSON**"
      ]
    },
    {
      "cell_type": "code",
      "metadata": {
        "id": "Oz1XbewW3k4R"
      },
      "source": [
        "import json\n",
        "fd= open(\"record.json\",'r')\n",
        "r=fd.read()\n",
        "fd.close()\n",
        "record=json.loads(r)"
      ],
      "execution_count": 32,
      "outputs": []
    },
    {
      "cell_type": "code",
      "metadata": {
        "id": "9w8j8DmZ3rUN",
        "colab": {
          "base_uri": "https://localhost:8080/"
        },
        "outputId": "f2153dc5-0319-4336-9c54-1692cc12146a"
      },
      "source": [
        "record"
      ],
      "execution_count": 33,
      "outputs": [
        {
          "output_type": "execute_result",
          "data": {
            "text/plain": [
              "{'1001': {'name': 'Choco Cake', 'pr': 100, 'qn': 34},\n",
              " '1002': {'name': 'Milk Cake', 'pr': 800, 'qn': 100},\n",
              " '1003': {'name': 'Drink', 'pr': 85, 'qn': 100},\n",
              " '1004': {'name': 'Candy', 'pr': 5, 'qn': 1000},\n",
              " '1005': {'name': 'Pen', 'pr': 20, 'qn': 100},\n",
              " '1006': {'name': 'Phone', 'pr': 50000, 'qn': 10},\n",
              " '1007': {'name': 'Mic', 'pr': 1500, 'qn': 0},\n",
              " '1008': {'name': 'Case', 'pr': 599, 'qn': 5},\n",
              " '1009': {'name': 'Keyboard', 'pr': 1999, 'qn': 10},\n",
              " '1010': {'name': 'parle', 'pr': 10, 'qn': 100}}"
            ]
          },
          "metadata": {},
          "execution_count": 33
        }
      ]
    },
    {
      "cell_type": "markdown",
      "metadata": {
        "id": "ex5JrfMtLoW_"
      },
      "source": [
        "**ADDING / DELETING ITEMS TO THE INVENTORY**"
      ]
    },
    {
      "cell_type": "code",
      "metadata": {
        "id": "lnCCD_Pz3rW6",
        "colab": {
          "base_uri": "https://localhost:8080/"
        },
        "outputId": "ddf547fa-ea56-4556-927d-5c6a70c23a8b"
      },
      "source": [
        "choice=int(input(\"please enter the valid choice\\n 1.ADD ITEM \\n 2.DELETE ITEM: \\n\"))\n",
        "if(choice==1):\n",
        "  prod_id=input(\"enter product id: \")\n",
        "  prod_name=input(\"enter name: \")\n",
        "  prod_price=int(input(\"enter price: \"))\n",
        "  prod_quantity=int(input(\"enter quantity: \"))\n",
        "  record[prod_id]={'name':prod_name , 'pr':prod_price , 'qn':prod_quantity }\n",
        "  js=json.dumps(record)\n",
        "  fd=open(\"record.json\",'w')\n",
        "  fd.write(js)\n",
        "  fd.close()\n",
        "elif(choice==2):\n",
        "  prod_id=input(\"enter product id: \")\n",
        "  del record[prod_id]\n",
        "  js=json.dumps(record)\n",
        "  fd=open(\"record.json\",'w')\n",
        "  fd.write(js)\n",
        "  fd.close()"
      ],
      "execution_count": 36,
      "outputs": [
        {
          "name": "stdout",
          "output_type": "stream",
          "text": [
            "please enter the valid choice\n",
            " 1.ADD ITEM \n",
            " 2.DELETE ITEM: \n",
            "2\n",
            "enter product id: 1010\n"
          ]
        }
      ]
    },
    {
      "cell_type": "code",
      "metadata": {
        "id": "DKwG61pM3raU",
        "colab": {
          "base_uri": "https://localhost:8080/"
        },
        "outputId": "fad3961d-9cdf-4c34-8eec-b0caa263e816"
      },
      "source": [
        "record"
      ],
      "execution_count": 37,
      "outputs": [
        {
          "output_type": "execute_result",
          "data": {
            "text/plain": [
              "{'1001': {'name': 'Choco Cake', 'pr': 100, 'qn': 34},\n",
              " '1002': {'name': 'Milk Cake', 'pr': 800, 'qn': 100},\n",
              " '1003': {'name': 'Drink', 'pr': 85, 'qn': 100},\n",
              " '1004': {'name': 'Candy', 'pr': 5, 'qn': 1000},\n",
              " '1005': {'name': 'Pen', 'pr': 20, 'qn': 100},\n",
              " '1006': {'name': 'Phone', 'pr': 50000, 'qn': 10},\n",
              " '1007': {'name': 'Mic', 'pr': 1500, 'qn': 0},\n",
              " '1008': {'name': 'Case', 'pr': 599, 'qn': 5},\n",
              " '1009': {'name': 'Keyboard', 'pr': 1999, 'qn': 10},\n",
              " '1011': {'name': 'coco', 'pr': 75, 'qn': 100}}"
            ]
          },
          "metadata": {},
          "execution_count": 37
        }
      ]
    },
    {
      "cell_type": "code",
      "metadata": {
        "id": "MepEFSUT3rjB"
      },
      "source": [
        "\n"
      ],
      "execution_count": 35,
      "outputs": []
    },
    {
      "cell_type": "code",
      "metadata": {
        "id": "kL14bjb53rl8"
      },
      "source": [
        ""
      ],
      "execution_count": 35,
      "outputs": []
    },
    {
      "cell_type": "code",
      "metadata": {
        "id": "ukb-UT0h3roq"
      },
      "source": [
        ""
      ],
      "execution_count": 35,
      "outputs": []
    },
    {
      "cell_type": "code",
      "metadata": {
        "id": "HF_zEMLf3rru"
      },
      "source": [
        ""
      ],
      "execution_count": 35,
      "outputs": []
    },
    {
      "cell_type": "code",
      "metadata": {
        "id": "abKxOPCT3rxx"
      },
      "source": [
        ""
      ],
      "execution_count": 35,
      "outputs": []
    },
    {
      "cell_type": "code",
      "metadata": {
        "id": "PTJQ6Xlo3r0L"
      },
      "source": [
        ""
      ],
      "execution_count": 35,
      "outputs": []
    },
    {
      "cell_type": "code",
      "metadata": {
        "id": "d3C-1Kk03r2a"
      },
      "source": [
        ""
      ],
      "execution_count": 35,
      "outputs": []
    },
    {
      "cell_type": "code",
      "metadata": {
        "id": "6KcGKEbA3r5w"
      },
      "source": [
        ""
      ],
      "execution_count": 35,
      "outputs": []
    },
    {
      "cell_type": "code",
      "metadata": {
        "id": "A-h3Pwk03pU0"
      },
      "source": [
        ""
      ],
      "execution_count": 35,
      "outputs": []
    },
    {
      "cell_type": "code",
      "metadata": {
        "id": "En9a24yK3pkR"
      },
      "source": [
        ""
      ],
      "execution_count": 35,
      "outputs": []
    },
    {
      "cell_type": "code",
      "metadata": {
        "id": "SZHxrEcP3pnn"
      },
      "source": [
        ""
      ],
      "execution_count": 35,
      "outputs": []
    }
  ]
}