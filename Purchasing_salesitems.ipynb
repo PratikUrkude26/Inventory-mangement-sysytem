{
  "nbformat": 4,
  "nbformat_minor": 0,
  "metadata": {
    "colab": {
      "name": "Purchasing /salesitems.ipynb",
      "provenance": []
    },
    "kernelspec": {
      "name": "python3",
      "display_name": "Python 3"
    },
    "language_info": {
      "name": "python"
    }
  },
  "cells": [
    {
      "cell_type": "markdown",
      "metadata": {
        "id": "9WboJzEeKtfe"
      },
      "source": [
        "**LOADING DATA FROM RECORD.JSON**"
      ]
    },
    {
      "cell_type": "code",
      "metadata": {
        "id": "Oz1XbewW3k4R"
      },
      "source": [
        "import json\n",
        "fd= open(\"record.json\",'r')\n",
        "r=fd.read()\n",
        "fd.close()\n",
        "record=json.loads(r)"
      ],
      "execution_count": 10,
      "outputs": []
    },
    {
      "cell_type": "code",
      "metadata": {
        "id": "9w8j8DmZ3rUN",
        "colab": {
          "base_uri": "https://localhost:8080/"
        },
        "outputId": "4eb974ce-628a-48b4-adf3-779143e8588b"
      },
      "source": [
        "record"
      ],
      "execution_count": 11,
      "outputs": [
        {
          "output_type": "execute_result",
          "data": {
            "text/plain": [
              "{'1001': {'name': 'Choco Cake', 'pr': 100, 'qn': 11},\n",
              " '1002': {'name': 'Milk Cake', 'pr': 800, 'qn': 94},\n",
              " '1003': {'name': 'Drink', 'pr': 85, 'qn': 100},\n",
              " '1004': {'name': 'Candy', 'pr': 5, 'qn': 985},\n",
              " '1005': {'name': 'Pen', 'pr': 20, 'qn': 91},\n",
              " '1006': {'name': 'Phone', 'pr': 50000, 'qn': 6},\n",
              " '1007': {'name': 'Mic', 'pr': 1500, 'qn': 0},\n",
              " '1008': {'name': 'Case', 'pr': 599, 'qn': 5},\n",
              " '1009': {'name': 'Keyboard', 'pr': 1999, 'qn': 10}}"
            ]
          },
          "metadata": {},
          "execution_count": 11
        }
      ]
    },
    {
      "cell_type": "markdown",
      "metadata": {
        "id": "ex5JrfMtLoW_"
      },
      "source": [
        "**PURCHASING ITEMS**"
      ]
    },
    {
      "cell_type": "code",
      "metadata": {
        "id": "lnCCD_Pz3rW6",
        "colab": {
          "base_uri": "https://localhost:8080/"
        },
        "outputId": "eceee11e-5594-46ec-f60a-79fa00db5ecd"
      },
      "source": [
        "purchase_Item_ID=input(\"Enter the product_Id: \")\n",
        "Item_quant = int(input(\"Enter the quantity: \"))\n",
        "for i in record.keys():\n",
        "  if ((purchase_Item_ID==i) and (Item_quant <= record[purchase_Item_ID]['qn'] )):\n",
        "    print(\"***********************\")\n",
        "    print(\"Name: \", record[purchase_Item_ID]['name'])\n",
        "    print(\"Price: \",record[purchase_Item_ID]['pr'])\n",
        "    print(\"Quant: \",Item_quant)\n",
        "    print(\"------------------------\")\n",
        "    print(\"Billing Amout: \", Item_quant * record[purchase_Item_ID]['pr'])\n",
        "    print(\" *********************** \")\n",
        "    record[purchase_Item_ID]['qn'] = record[purchase_Item_ID]['qn'] - Item_quant\n",
        "  "
      ],
      "execution_count": 24,
      "outputs": [
        {
          "output_type": "stream",
          "name": "stdout",
          "text": [
            "Enter the product_Id: 1001\n",
            "Enter the quantity: 5\n",
            "***********************\n",
            "Name:  Choco Cake\n",
            "Price:  100\n",
            "Quant:  5\n",
            "------------------------\n",
            "Billing Amout:  500\n",
            " *********************** \n"
          ]
        }
      ]
    },
    {
      "cell_type": "code",
      "metadata": {
        "id": "DKwG61pM3raU",
        "colab": {
          "base_uri": "https://localhost:8080/"
        },
        "outputId": "9a909b5b-b2c6-4f95-e70b-daa5bb887abd"
      },
      "source": [
        "js = json.dumps(record)\n",
        "\n",
        "fd = open(\"record.json\",'w')\n",
        "fd.write(js)\n",
        "fd.close()\n",
        "record"
      ],
      "execution_count": 25,
      "outputs": [
        {
          "output_type": "execute_result",
          "data": {
            "text/plain": [
              "{'1001': {'name': 'Choco Cake', 'pr': 100, 'qn': 6},\n",
              " '1002': {'name': 'Milk Cake', 'pr': 800, 'qn': 91},\n",
              " '1003': {'name': 'Drink', 'pr': 85, 'qn': 96},\n",
              " '1004': {'name': 'Candy', 'pr': 5, 'qn': 985},\n",
              " '1005': {'name': 'Pen', 'pr': 20, 'qn': 91},\n",
              " '1006': {'name': 'Phone', 'pr': 50000, 'qn': 6},\n",
              " '1007': {'name': 'Mic', 'pr': 1500, 'qn': 0},\n",
              " '1008': {'name': 'Case', 'pr': 599, 'qn': 5},\n",
              " '1009': {'name': 'Keyboard', 'pr': 1999, 'qn': 10}}"
            ]
          },
          "metadata": {},
          "execution_count": 25
        }
      ]
    },
    {
      "cell_type": "markdown",
      "metadata": {
        "id": "br5uGTYI68Qe"
      },
      "source": [
        "**sales**"
      ]
    },
    {
      "cell_type": "code",
      "metadata": {
        "id": "Xq9vq4Ud7VCL"
      },
      "source": [
        "sales = {1 : {'prod' : purchase_Item_ID , 'qn' :Item_quant , 'amount': record[purchase_Item_ID]['pr'] * Item_quant}}\n",
        "\n"
      ],
      "execution_count": 27,
      "outputs": []
    },
    {
      "cell_type": "code",
      "metadata": {
        "colab": {
          "base_uri": "https://localhost:8080/"
        },
        "id": "Vhq_UddA97Xr",
        "outputId": "b9861de5-2122-455a-dfbe-b419db03a848"
      },
      "source": [
        "import json\n",
        "js=json.dumps(sales)\n",
        "fd=open(\"sale.json\",'w')\n",
        "fd.write(js)\n",
        "fd.close()\n",
        "sales"
      ],
      "execution_count": 28,
      "outputs": [
        {
          "output_type": "execute_result",
          "data": {
            "text/plain": [
              "{1: {'amount': 500, 'prod': '1001', 'qn': 5}}"
            ]
          },
          "metadata": {},
          "execution_count": 28
        }
      ]
    }
  ]
}